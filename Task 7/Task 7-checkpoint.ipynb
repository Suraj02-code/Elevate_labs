{
 "cells": [
  {
   "cell_type": "code",
   "execution_count": 1,
   "id": "5ee94393-76bf-47e7-ac1f-bbafb45cf9bd",
   "metadata": {},
   "outputs": [
    {
     "name": "stdout",
     "output_type": "stream",
     "text": [
      "Defaulting to user installation because normal site-packages is not writeable\n",
      "Requirement already satisfied: pandas in c:\\programdata\\anaconda3\\lib\\site-packages (2.2.2)\n",
      "Requirement already satisfied: matplotlib in c:\\programdata\\anaconda3\\lib\\site-packages (3.9.2)\n",
      "Requirement already satisfied: numpy>=1.26.0 in c:\\programdata\\anaconda3\\lib\\site-packages (from pandas) (1.26.4)\n",
      "Requirement already satisfied: python-dateutil>=2.8.2 in c:\\programdata\\anaconda3\\lib\\site-packages (from pandas) (2.9.0.post0)\n",
      "Requirement already satisfied: pytz>=2020.1 in c:\\programdata\\anaconda3\\lib\\site-packages (from pandas) (2024.1)\n",
      "Requirement already satisfied: tzdata>=2022.7 in c:\\programdata\\anaconda3\\lib\\site-packages (from pandas) (2023.3)\n",
      "Requirement already satisfied: contourpy>=1.0.1 in c:\\programdata\\anaconda3\\lib\\site-packages (from matplotlib) (1.2.0)\n",
      "Requirement already satisfied: cycler>=0.10 in c:\\programdata\\anaconda3\\lib\\site-packages (from matplotlib) (0.11.0)\n",
      "Requirement already satisfied: fonttools>=4.22.0 in c:\\programdata\\anaconda3\\lib\\site-packages (from matplotlib) (4.51.0)\n",
      "Requirement already satisfied: kiwisolver>=1.3.1 in c:\\programdata\\anaconda3\\lib\\site-packages (from matplotlib) (1.4.4)\n",
      "Requirement already satisfied: packaging>=20.0 in c:\\programdata\\anaconda3\\lib\\site-packages (from matplotlib) (24.1)\n",
      "Requirement already satisfied: pillow>=8 in c:\\programdata\\anaconda3\\lib\\site-packages (from matplotlib) (10.4.0)\n",
      "Requirement already satisfied: pyparsing>=2.3.1 in c:\\programdata\\anaconda3\\lib\\site-packages (from matplotlib) (3.1.2)\n",
      "Requirement already satisfied: six>=1.5 in c:\\programdata\\anaconda3\\lib\\site-packages (from python-dateutil>=2.8.2->pandas) (1.16.0)\n",
      "Note: you may need to restart the kernel to use updated packages.\n"
     ]
    }
   ],
   "source": [
    "pip install pandas matplotlib\n"
   ]
  },
  {
   "cell_type": "code",
   "execution_count": 6,
   "id": "27915dd6-e121-4c69-ad3f-adab680b361a",
   "metadata": {},
   "outputs": [],
   "source": [
    "import sqlite3\n",
    "\n",
    "\n",
    "conn = sqlite3.connect(\"sales_data.db\")\n",
    "cursor = conn.cursor()\n",
    "\n",
    "cursor.execute(\"\"\"\n",
    "CREATE TABLE IF NOT EXISTS sales (\n",
    "    id INTEGER PRIMARY KEY AUTOINCREMENT,\n",
    "    product TEXT,\n",
    "    quantity INTEGER,\n",
    "    price REAL\n",
    ")\n",
    "\"\"\")\n",
    "\n",
    "\n",
    "data = [\n",
    "    # Existing entries\n",
    "    (\"Apple\", 10, 1.5),\n",
    "    (\"Banana\", 20, 0.5),\n",
    "    (\"Orange\", 15, 1.0),\n",
    "    (\"Apple\", 5, 1.5),\n",
    "    (\"Banana\", 10, 0.5),\n",
    "    (\"Orange\", 10, 1.0),\n",
    "    (\"Grapes\", 8, 2.0),\n",
    "    (\"Mango\", 12, 2.5),\n",
    "    (\"Pineapple\", 4, 3.0),\n",
    "    (\"Apple\", 7, 1.5),\n",
    "    (\"Banana\", 25, 0.45),\n",
    "    (\"Orange\", 5, 1.1),\n",
    "    (\"Mango\", 6, 2.4),\n",
    "    (\"Grapes\", 10, 2.2),\n",
    "    (\"Pineapple\", 3, 3.2),\n",
    "\n",
    "\n",
    "    (\"Apple\", 12, 1.6),\n",
    "    (\"Banana\", 30, 0.4),\n",
    "    (\"Orange\", 20, 0.95),\n",
    "    (\"Mango\", 8, 2.6),\n",
    "    (\"Grapes\", 5, 2.1),\n",
    "    (\"Pineapple\", 2, 3.1),\n",
    "    (\"Watermelon\", 3, 4.0),\n",
    "    (\"Papaya\", 6, 3.5),\n",
    "    (\"Kiwi\", 10, 2.8),\n",
    "    (\"Apple\", 6, 1.55),\n",
    "    (\"Banana\", 40, 0.48),\n",
    "    (\"Orange\", 18, 1.05),\n",
    "    (\"Mango\", 10, 2.55),\n",
    "    (\"Grapes\", 7, 2.3),\n",
    "    (\"Pineapple\", 5, 3.25),\n",
    "    (\"Watermelon\", 4, 4.1),\n",
    "    (\"Papaya\", 9, 3.4),\n",
    "    (\"Kiwi\", 6, 2.85)\n",
    "]\n",
    "\n",
    "cursor.executemany(\"INSERT INTO sales (product, quantity, price) VALUES (?, ?, ?)\", data)\n",
    "conn.commit()\n",
    "conn.close()\n"
   ]
  },
  {
   "cell_type": "code",
   "execution_count": 7,
   "id": "3d47d907-f70f-4ad1-b563-b612b1b095bb",
   "metadata": {},
   "outputs": [
    {
     "name": "stdout",
     "output_type": "stream",
     "text": [
      "      product  total_qty  revenue\n",
      "0       Apple         95    145.5\n",
      "1      Banana        280    129.9\n",
      "2      Grapes         60    129.2\n",
      "3        Kiwi         32     90.2\n",
      "4       Mango         72    181.4\n",
      "5      Orange        161    161.8\n",
      "6      Papaya         30    103.2\n",
      "7   Pineapple         28     88.1\n",
      "8  Watermelon         14     56.8\n"
     ]
    }
   ],
   "source": [
    "import sqlite3\n",
    "import pandas as pd\n",
    "\n",
    "\n",
    "conn = sqlite3.connect(\"sales_data.db\")\n",
    "\n",
    "\n",
    "query = \"\"\"\n",
    "SELECT product, \n",
    "       SUM(quantity) AS total_qty,\n",
    "       SUM(quantity * price) AS revenue\n",
    "FROM sales\n",
    "GROUP BY product\n",
    "\"\"\"\n",
    "\n",
    "\n",
    "df = pd.read_sql_query(query, conn)\n",
    "conn.close()\n",
    "\n",
    "\n",
    "print(df)\n"
   ]
  },
  {
   "cell_type": "code",
   "execution_count": 5,
   "id": "40a5038b-b8b8-441f-bf44-b1611fe803b2",
   "metadata": {},
   "outputs": [
    {
     "data": {
      "image/png": "[encoded data removed]",
      "text/plain": [
       "<Figure size 640x480 with 1 Axes>"
      ]
     },
     "metadata": {},
     "output_type": "display_data"
    }
   ],
   "source": [
    "import matplotlib.pyplot as plt\n",
    "\n",
    "\n",
    "df.plot(kind='bar', x='product', y='revenue', color='skyblue')\n",
    "plt.title(\"Revenue by Product\")\n",
    "plt.ylabel(\"Revenue\")\n",
    "plt.xlabel(\"Product\")\n",
    "plt.tight_layout()\n",
    "plt.savefig(\"sales_chart.png\")\n",
    "plt.show()\n"
   ]
  },
  {
   "cell_type": "code",
   "execution_count": null,
   "id": "394e65d8-485f-440b-ae31-a75243f903c8",
   "metadata": {},
   "outputs": [],
   "source": []
  }
 ],
 "metadata": {
  "kernelspec": {
   "display_name": "Python 3 (ipykernel)",
   "language": "python",
   "name": "python3"
  },
  "language_info": {
   "codemirror_mode": {
    "name": "ipython",
    "version": 3
   },
   "file_extension": ".py",
   "mimetype": "text/x-python",
   "name": "python",
   "nbconvert_exporter": "python",
   "pygments_lexer": "ipython3",
   "version": "3.12.7"
  }
 },
 "nbformat": 4,
 "nbformat_minor": 5
}
